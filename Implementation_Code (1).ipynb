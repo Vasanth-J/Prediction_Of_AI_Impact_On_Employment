{
  "cells": [
    {
      "cell_type": "code",
      "execution_count": 1,
      "metadata": {
        "id": "xHLazfhzasNr"
      },
      "outputs": [],
      "source": [
        "import pandas as pd\n",
        "import numpy as np\n",
        "from sklearn.model_selection import train_test_split\n",
        "from sklearn.preprocessing import LabelEncoder, StandardScaler\n",
        "import tensorflow as tf\n",
        "from tensorflow.keras.models import Sequential\n",
        "from tensorflow.keras.layers import Dense, SimpleRNN, Embedding\n",
        "from tensorflow.keras.preprocessing.sequence import pad_sequences"
      ]
    },
    {
      "cell_type": "code",
      "execution_count": 2,
      "metadata": {
        "id": "1dKoJW5lav6-"
      },
      "outputs": [],
      "source": [
        "# Load the dataset\n",
        "file_path = 'My_Data.csv'\n",
        "df = pd.read_csv(file_path)"
      ]
    },
    {
      "cell_type": "code",
      "execution_count": 3,
      "metadata": {
        "colab": {
          "base_uri": "https://localhost:8080/",
          "height": 300
        },
        "id": "Pn1ZPh1qa3F9",
        "outputId": "96532ad7-46e5-4e86-edd3-922d6bd9c784"
      },
      "outputs": [
        {
          "output_type": "execute_result",
          "data": {
            "text/plain": [
              "             Tasks    AI models  AI_Workload_Ratio\n",
              "count  4706.000000  4706.000000        4706.000000\n",
              "mean    400.708032  1817.678071                inf\n",
              "std     311.564781  1086.853037                NaN\n",
              "min       1.000000     0.000000           0.036585\n",
              "25%     161.000000  1085.250000           0.137271\n",
              "50%     270.000000  1577.500000           0.199281\n",
              "75%     608.750000  2273.000000           0.260572\n",
              "max    1387.000000  5666.000000                inf"
            ],
            "text/html": [
              "\n",
              "  <div id=\"df-5a956875-0d10-4ec4-ad52-2c649bb13b55\" class=\"colab-df-container\">\n",
              "    <div>\n",
              "<style scoped>\n",
              "    .dataframe tbody tr th:only-of-type {\n",
              "        vertical-align: middle;\n",
              "    }\n",
              "\n",
              "    .dataframe tbody tr th {\n",
              "        vertical-align: top;\n",
              "    }\n",
              "\n",
              "    .dataframe thead th {\n",
              "        text-align: right;\n",
              "    }\n",
              "</style>\n",
              "<table border=\"1\" class=\"dataframe\">\n",
              "  <thead>\n",
              "    <tr style=\"text-align: right;\">\n",
              "      <th></th>\n",
              "      <th>Tasks</th>\n",
              "      <th>AI models</th>\n",
              "      <th>AI_Workload_Ratio</th>\n",
              "    </tr>\n",
              "  </thead>\n",
              "  <tbody>\n",
              "    <tr>\n",
              "      <th>count</th>\n",
              "      <td>4706.000000</td>\n",
              "      <td>4706.000000</td>\n",
              "      <td>4706.000000</td>\n",
              "    </tr>\n",
              "    <tr>\n",
              "      <th>mean</th>\n",
              "      <td>400.708032</td>\n",
              "      <td>1817.678071</td>\n",
              "      <td>inf</td>\n",
              "    </tr>\n",
              "    <tr>\n",
              "      <th>std</th>\n",
              "      <td>311.564781</td>\n",
              "      <td>1086.853037</td>\n",
              "      <td>NaN</td>\n",
              "    </tr>\n",
              "    <tr>\n",
              "      <th>min</th>\n",
              "      <td>1.000000</td>\n",
              "      <td>0.000000</td>\n",
              "      <td>0.036585</td>\n",
              "    </tr>\n",
              "    <tr>\n",
              "      <th>25%</th>\n",
              "      <td>161.000000</td>\n",
              "      <td>1085.250000</td>\n",
              "      <td>0.137271</td>\n",
              "    </tr>\n",
              "    <tr>\n",
              "      <th>50%</th>\n",
              "      <td>270.000000</td>\n",
              "      <td>1577.500000</td>\n",
              "      <td>0.199281</td>\n",
              "    </tr>\n",
              "    <tr>\n",
              "      <th>75%</th>\n",
              "      <td>608.750000</td>\n",
              "      <td>2273.000000</td>\n",
              "      <td>0.260572</td>\n",
              "    </tr>\n",
              "    <tr>\n",
              "      <th>max</th>\n",
              "      <td>1387.000000</td>\n",
              "      <td>5666.000000</td>\n",
              "      <td>inf</td>\n",
              "    </tr>\n",
              "  </tbody>\n",
              "</table>\n",
              "</div>\n",
              "    <div class=\"colab-df-buttons\">\n",
              "\n",
              "  <div class=\"colab-df-container\">\n",
              "    <button class=\"colab-df-convert\" onclick=\"convertToInteractive('df-5a956875-0d10-4ec4-ad52-2c649bb13b55')\"\n",
              "            title=\"Convert this dataframe to an interactive table.\"\n",
              "            style=\"display:none;\">\n",
              "\n",
              "  <svg xmlns=\"http://www.w3.org/2000/svg\" height=\"24px\" viewBox=\"0 -960 960 960\">\n",
              "    <path d=\"M120-120v-720h720v720H120Zm60-500h600v-160H180v160Zm220 220h160v-160H400v160Zm0 220h160v-160H400v160ZM180-400h160v-160H180v160Zm440 0h160v-160H620v160ZM180-180h160v-160H180v160Zm440 0h160v-160H620v160Z\"/>\n",
              "  </svg>\n",
              "    </button>\n",
              "\n",
              "  <style>\n",
              "    .colab-df-container {\n",
              "      display:flex;\n",
              "      gap: 12px;\n",
              "    }\n",
              "\n",
              "    .colab-df-convert {\n",
              "      background-color: #E8F0FE;\n",
              "      border: none;\n",
              "      border-radius: 50%;\n",
              "      cursor: pointer;\n",
              "      display: none;\n",
              "      fill: #1967D2;\n",
              "      height: 32px;\n",
              "      padding: 0 0 0 0;\n",
              "      width: 32px;\n",
              "    }\n",
              "\n",
              "    .colab-df-convert:hover {\n",
              "      background-color: #E2EBFA;\n",
              "      box-shadow: 0px 1px 2px rgba(60, 64, 67, 0.3), 0px 1px 3px 1px rgba(60, 64, 67, 0.15);\n",
              "      fill: #174EA6;\n",
              "    }\n",
              "\n",
              "    .colab-df-buttons div {\n",
              "      margin-bottom: 4px;\n",
              "    }\n",
              "\n",
              "    [theme=dark] .colab-df-convert {\n",
              "      background-color: #3B4455;\n",
              "      fill: #D2E3FC;\n",
              "    }\n",
              "\n",
              "    [theme=dark] .colab-df-convert:hover {\n",
              "      background-color: #434B5C;\n",
              "      box-shadow: 0px 1px 3px 1px rgba(0, 0, 0, 0.15);\n",
              "      filter: drop-shadow(0px 1px 2px rgba(0, 0, 0, 0.3));\n",
              "      fill: #FFFFFF;\n",
              "    }\n",
              "  </style>\n",
              "\n",
              "    <script>\n",
              "      const buttonEl =\n",
              "        document.querySelector('#df-5a956875-0d10-4ec4-ad52-2c649bb13b55 button.colab-df-convert');\n",
              "      buttonEl.style.display =\n",
              "        google.colab.kernel.accessAllowed ? 'block' : 'none';\n",
              "\n",
              "      async function convertToInteractive(key) {\n",
              "        const element = document.querySelector('#df-5a956875-0d10-4ec4-ad52-2c649bb13b55');\n",
              "        const dataTable =\n",
              "          await google.colab.kernel.invokeFunction('convertToInteractive',\n",
              "                                                    [key], {});\n",
              "        if (!dataTable) return;\n",
              "\n",
              "        const docLinkHtml = 'Like what you see? Visit the ' +\n",
              "          '<a target=\"_blank\" href=https://colab.research.google.com/notebooks/data_table.ipynb>data table notebook</a>'\n",
              "          + ' to learn more about interactive tables.';\n",
              "        element.innerHTML = '';\n",
              "        dataTable['output_type'] = 'display_data';\n",
              "        await google.colab.output.renderOutput(dataTable, element);\n",
              "        const docLink = document.createElement('div');\n",
              "        docLink.innerHTML = docLinkHtml;\n",
              "        element.appendChild(docLink);\n",
              "      }\n",
              "    </script>\n",
              "  </div>\n",
              "\n",
              "\n",
              "<div id=\"df-38ad5027-6472-403c-9660-3a6bd7573f8c\">\n",
              "  <button class=\"colab-df-quickchart\" onclick=\"quickchart('df-38ad5027-6472-403c-9660-3a6bd7573f8c')\"\n",
              "            title=\"Suggest charts\"\n",
              "            style=\"display:none;\">\n",
              "\n",
              "<svg xmlns=\"http://www.w3.org/2000/svg\" height=\"24px\"viewBox=\"0 0 24 24\"\n",
              "     width=\"24px\">\n",
              "    <g>\n",
              "        <path d=\"M19 3H5c-1.1 0-2 .9-2 2v14c0 1.1.9 2 2 2h14c1.1 0 2-.9 2-2V5c0-1.1-.9-2-2-2zM9 17H7v-7h2v7zm4 0h-2V7h2v10zm4 0h-2v-4h2v4z\"/>\n",
              "    </g>\n",
              "</svg>\n",
              "  </button>\n",
              "\n",
              "<style>\n",
              "  .colab-df-quickchart {\n",
              "      --bg-color: #E8F0FE;\n",
              "      --fill-color: #1967D2;\n",
              "      --hover-bg-color: #E2EBFA;\n",
              "      --hover-fill-color: #174EA6;\n",
              "      --disabled-fill-color: #AAA;\n",
              "      --disabled-bg-color: #DDD;\n",
              "  }\n",
              "\n",
              "  [theme=dark] .colab-df-quickchart {\n",
              "      --bg-color: #3B4455;\n",
              "      --fill-color: #D2E3FC;\n",
              "      --hover-bg-color: #434B5C;\n",
              "      --hover-fill-color: #FFFFFF;\n",
              "      --disabled-bg-color: #3B4455;\n",
              "      --disabled-fill-color: #666;\n",
              "  }\n",
              "\n",
              "  .colab-df-quickchart {\n",
              "    background-color: var(--bg-color);\n",
              "    border: none;\n",
              "    border-radius: 50%;\n",
              "    cursor: pointer;\n",
              "    display: none;\n",
              "    fill: var(--fill-color);\n",
              "    height: 32px;\n",
              "    padding: 0;\n",
              "    width: 32px;\n",
              "  }\n",
              "\n",
              "  .colab-df-quickchart:hover {\n",
              "    background-color: var(--hover-bg-color);\n",
              "    box-shadow: 0 1px 2px rgba(60, 64, 67, 0.3), 0 1px 3px 1px rgba(60, 64, 67, 0.15);\n",
              "    fill: var(--button-hover-fill-color);\n",
              "  }\n",
              "\n",
              "  .colab-df-quickchart-complete:disabled,\n",
              "  .colab-df-quickchart-complete:disabled:hover {\n",
              "    background-color: var(--disabled-bg-color);\n",
              "    fill: var(--disabled-fill-color);\n",
              "    box-shadow: none;\n",
              "  }\n",
              "\n",
              "  .colab-df-spinner {\n",
              "    border: 2px solid var(--fill-color);\n",
              "    border-color: transparent;\n",
              "    border-bottom-color: var(--fill-color);\n",
              "    animation:\n",
              "      spin 1s steps(1) infinite;\n",
              "  }\n",
              "\n",
              "  @keyframes spin {\n",
              "    0% {\n",
              "      border-color: transparent;\n",
              "      border-bottom-color: var(--fill-color);\n",
              "      border-left-color: var(--fill-color);\n",
              "    }\n",
              "    20% {\n",
              "      border-color: transparent;\n",
              "      border-left-color: var(--fill-color);\n",
              "      border-top-color: var(--fill-color);\n",
              "    }\n",
              "    30% {\n",
              "      border-color: transparent;\n",
              "      border-left-color: var(--fill-color);\n",
              "      border-top-color: var(--fill-color);\n",
              "      border-right-color: var(--fill-color);\n",
              "    }\n",
              "    40% {\n",
              "      border-color: transparent;\n",
              "      border-right-color: var(--fill-color);\n",
              "      border-top-color: var(--fill-color);\n",
              "    }\n",
              "    60% {\n",
              "      border-color: transparent;\n",
              "      border-right-color: var(--fill-color);\n",
              "    }\n",
              "    80% {\n",
              "      border-color: transparent;\n",
              "      border-right-color: var(--fill-color);\n",
              "      border-bottom-color: var(--fill-color);\n",
              "    }\n",
              "    90% {\n",
              "      border-color: transparent;\n",
              "      border-bottom-color: var(--fill-color);\n",
              "    }\n",
              "  }\n",
              "</style>\n",
              "\n",
              "  <script>\n",
              "    async function quickchart(key) {\n",
              "      const quickchartButtonEl =\n",
              "        document.querySelector('#' + key + ' button');\n",
              "      quickchartButtonEl.disabled = true;  // To prevent multiple clicks.\n",
              "      quickchartButtonEl.classList.add('colab-df-spinner');\n",
              "      try {\n",
              "        const charts = await google.colab.kernel.invokeFunction(\n",
              "            'suggestCharts', [key], {});\n",
              "      } catch (error) {\n",
              "        console.error('Error during call to suggestCharts:', error);\n",
              "      }\n",
              "      quickchartButtonEl.classList.remove('colab-df-spinner');\n",
              "      quickchartButtonEl.classList.add('colab-df-quickchart-complete');\n",
              "    }\n",
              "    (() => {\n",
              "      let quickchartButtonEl =\n",
              "        document.querySelector('#df-38ad5027-6472-403c-9660-3a6bd7573f8c button');\n",
              "      quickchartButtonEl.style.display =\n",
              "        google.colab.kernel.accessAllowed ? 'block' : 'none';\n",
              "    })();\n",
              "  </script>\n",
              "</div>\n",
              "\n",
              "    </div>\n",
              "  </div>\n"
            ],
            "application/vnd.google.colaboratory.intrinsic+json": {
              "type": "dataframe",
              "repr_error": "Out of range float values are not JSON compliant: inf"
            }
          },
          "metadata": {},
          "execution_count": 3
        }
      ],
      "source": [
        "df.describe()"
      ]
    },
    {
      "cell_type": "markdown",
      "metadata": {
        "id": "ObtLrw8_a4gx"
      },
      "source": [
        "Replace infinite values with NaNs in the numeric columns"
      ]
    },
    {
      "cell_type": "code",
      "execution_count": 4,
      "metadata": {
        "id": "b7PV_42Fa43b"
      },
      "outputs": [],
      "source": [
        "numeric_cols = df.select_dtypes(include=[np.number]).columns\n",
        "df[numeric_cols] = df[numeric_cols].replace([np.inf, -np.inf], np.nan)"
      ]
    },
    {
      "cell_type": "code",
      "execution_count": 5,
      "metadata": {
        "colab": {
          "base_uri": "https://localhost:8080/"
        },
        "id": "1rrO5HbNa7ZZ",
        "outputId": "f8c54b51-8b83-490c-957a-ac7b902222cd"
      },
      "outputs": [
        {
          "output_type": "execute_result",
          "data": {
            "text/plain": [
              "Job titiles          0\n",
              "AI Impact            0\n",
              "Tasks                0\n",
              "AI models            0\n",
              "AI_Workload_Ratio    7\n",
              "Domain               0\n",
              "dtype: int64"
            ]
          },
          "metadata": {},
          "execution_count": 5
        }
      ],
      "source": [
        "df.isnull().sum()"
      ]
    },
    {
      "cell_type": "markdown",
      "metadata": {
        "id": "85UnrFT7a-Nr"
      },
      "source": [
        "Drop rows with NaNs"
      ]
    },
    {
      "cell_type": "code",
      "execution_count": 6,
      "metadata": {
        "id": "fsQqSAq-a8vA"
      },
      "outputs": [],
      "source": [
        "df.dropna(inplace=True)"
      ]
    },
    {
      "cell_type": "code",
      "execution_count": 7,
      "metadata": {
        "colab": {
          "base_uri": "https://localhost:8080/"
        },
        "id": "_gWACGjUa_Uu",
        "outputId": "12cac729-8540-417f-edd1-c4ece9b7092b"
      },
      "outputs": [
        {
          "output_type": "execute_result",
          "data": {
            "text/plain": [
              "Job titiles          0\n",
              "AI Impact            0\n",
              "Tasks                0\n",
              "AI models            0\n",
              "AI_Workload_Ratio    0\n",
              "Domain               0\n",
              "dtype: int64"
            ]
          },
          "metadata": {},
          "execution_count": 7
        }
      ],
      "source": [
        "df.isnull().sum()"
      ]
    },
    {
      "cell_type": "markdown",
      "metadata": {
        "id": "t8zzxgwmbDVF"
      },
      "source": [
        "Encode categorical columns and changed column name Job titiles to Job titles"
      ]
    },
    {
      "cell_type": "code",
      "execution_count": 8,
      "metadata": {
        "id": "ZKQV2znJbBqL"
      },
      "outputs": [],
      "source": [
        "label_encoder = LabelEncoder()\n",
        "df['Job titles'] = label_encoder.fit_transform(df['Job titiles'].astype(str))\n",
        "df['Domain'] = label_encoder.fit_transform(df['Domain'].astype(str))\n",
        "df['Tasks'] = df['Tasks'].astype(str)  # Convert to string if not already"
      ]
    },
    {
      "cell_type": "markdown",
      "metadata": {
        "id": "pTyJDKSrbJ7R"
      },
      "source": [
        "Normalize the numerical columns"
      ]
    },
    {
      "cell_type": "code",
      "execution_count": 9,
      "metadata": {
        "id": "xsaumO_LbHX5"
      },
      "outputs": [],
      "source": [
        "scaler = StandardScaler()\n",
        "df[['AI_Workload_Ratio']] = scaler.fit_transform(df[['AI_Workload_Ratio']])\n"
      ]
    },
    {
      "cell_type": "markdown",
      "metadata": {
        "id": "KVE9BKGEbMUz"
      },
      "source": [
        "Some data Preprocessing"
      ]
    },
    {
      "cell_type": "code",
      "execution_count": 10,
      "metadata": {
        "id": "xke2TftUbK6_"
      },
      "outputs": [],
      "source": [
        "#Ensure the AI Impact column is numeric (assuming it's continuous)\n",
        "df['AI Impact'] = pd.to_numeric(df['AI Impact'].str.replace('%', ''), errors='coerce')"
      ]
    },
    {
      "cell_type": "code",
      "execution_count": 11,
      "metadata": {
        "id": "mZR4UIJKbNTf"
      },
      "outputs": [],
      "source": [
        "# Prepare the input and output\n",
        "X = df[['Job titles', 'Tasks', 'AI models', 'AI_Workload_Ratio', 'Domain']]\n",
        "y = df['AI Impact']"
      ]
    },
    {
      "cell_type": "code",
      "execution_count": 12,
      "metadata": {
        "id": "i-B_dJwBbOeW"
      },
      "outputs": [],
      "source": [
        "# Convert inputs to sequences\n",
        "X = X.values\n",
        "y = y.values\n"
      ]
    },
    {
      "cell_type": "code",
      "execution_count": 13,
      "metadata": {
        "id": "_uf3HtmkbPKt"
      },
      "outputs": [],
      "source": [
        " # Pad sequences for equal length input to RNN\n",
        "X = pad_sequences(X, padding='post')"
      ]
    },
    {
      "cell_type": "code",
      "execution_count": 14,
      "metadata": {
        "id": "5wcyhk4ibRET"
      },
      "outputs": [],
      "source": [
        "\n",
        "# Split the dataset into training and testing sets\n",
        "X_train, X_test, y_train, y_test = train_test_split(X, y, test_size=0.2, random_state=42)\n"
      ]
    },
    {
      "cell_type": "markdown",
      "metadata": {
        "id": "YP6iCqz6bT0I"
      },
      "source": [
        "Build the RNN model"
      ]
    },
    {
      "cell_type": "code",
      "execution_count": 15,
      "metadata": {
        "colab": {
          "base_uri": "https://localhost:8080/"
        },
        "id": "2jCZ0GF4bR50",
        "outputId": "46409f4d-f651-47e1-8bf7-654267b05707"
      },
      "outputs": [
        {
          "output_type": "stream",
          "name": "stdout",
          "text": [
            "Model: \"sequential\"\n",
            "_________________________________________________________________\n",
            " Layer (type)                Output Shape              Param #   \n",
            "=================================================================\n",
            " embedding (Embedding)       (None, 5, 128)            1280      \n",
            "                                                                 \n",
            " simple_rnn (SimpleRNN)      (None, 5, 64)             12352     \n",
            "                                                                 \n",
            " simple_rnn_1 (SimpleRNN)    (None, 64)                8256      \n",
            "                                                                 \n",
            " dense (Dense)               (None, 1)                 65        \n",
            "                                                                 \n",
            "=================================================================\n",
            "Total params: 21953 (85.75 KB)\n",
            "Trainable params: 21953 (85.75 KB)\n",
            "Non-trainable params: 0 (0.00 Byte)\n",
            "_________________________________________________________________\n"
          ]
        }
      ],
      "source": [
        "model = Sequential()\n",
        "model.add(Embedding(input_dim=len(label_encoder.classes_), output_dim=128, input_length=X.shape[1]))\n",
        "model.add(SimpleRNN(units=64, activation='relu', return_sequences=True))\n",
        "model.add(SimpleRNN(units=64, activation='relu'))\n",
        "model.add(Dense(1, activation='linear'))  # Assuming 'AI Impact' is a continuous value\n",
        "model.compile(optimizer='adam', loss='mean_squared_error', metrics=['mae','mse'])\n",
        "model.summary()"
      ]
    },
    {
      "cell_type": "markdown",
      "metadata": {
        "id": "bCpxFP1cbW9F"
      },
      "source": [
        "Remove accuracy as it is not relevant, as of it is regression task\n"
      ]
    },
    {
      "cell_type": "code",
      "execution_count": 16,
      "metadata": {
        "colab": {
          "base_uri": "https://localhost:8080/"
        },
        "id": "aLqZ-Ec-bUvk",
        "outputId": "8e492779-3a25-4520-ab4b-aae68e833f37"
      },
      "outputs": [
        {
          "output_type": "stream",
          "name": "stdout",
          "text": [
            "Epoch 1/50\n",
            "94/94 [==============================] - 8s 42ms/step - loss: 640.7292 - mae: 20.0165 - mse: 640.7292 - val_loss: 319.9657 - val_mae: 14.1173 - val_mse: 319.9657\n",
            "Epoch 2/50\n",
            "94/94 [==============================] - 1s 16ms/step - loss: 323.7639 - mae: 14.0127 - mse: 323.7639 - val_loss: 291.6028 - val_mae: 13.4923 - val_mse: 291.6028\n",
            "Epoch 3/50\n",
            "94/94 [==============================] - 2s 25ms/step - loss: 304.6013 - mae: 13.4878 - mse: 304.6013 - val_loss: 276.0657 - val_mae: 12.7370 - val_mse: 276.0657\n",
            "Epoch 4/50\n",
            "94/94 [==============================] - 2s 19ms/step - loss: 300.3273 - mae: 13.3851 - mse: 300.3273 - val_loss: 289.9523 - val_mae: 12.8225 - val_mse: 289.9523\n",
            "Epoch 5/50\n",
            "94/94 [==============================] - 2s 16ms/step - loss: 292.8496 - mae: 13.2391 - mse: 292.8496 - val_loss: 275.2099 - val_mae: 12.8493 - val_mse: 275.2099\n",
            "Epoch 6/50\n",
            "94/94 [==============================] - 1s 14ms/step - loss: 292.2379 - mae: 13.2360 - mse: 292.2379 - val_loss: 272.6260 - val_mae: 12.9909 - val_mse: 272.6260\n",
            "Epoch 7/50\n",
            "94/94 [==============================] - 1s 16ms/step - loss: 294.8435 - mae: 13.3209 - mse: 294.8435 - val_loss: 273.9614 - val_mae: 12.9618 - val_mse: 273.9614\n",
            "Epoch 8/50\n",
            "94/94 [==============================] - 1s 15ms/step - loss: 295.1825 - mae: 13.2038 - mse: 295.1825 - val_loss: 283.4055 - val_mae: 12.7638 - val_mse: 283.4055\n",
            "Epoch 9/50\n",
            "94/94 [==============================] - 1s 14ms/step - loss: 292.3829 - mae: 13.2033 - mse: 292.3829 - val_loss: 283.3648 - val_mae: 12.7596 - val_mse: 283.3648\n",
            "Epoch 10/50\n",
            "94/94 [==============================] - 1s 15ms/step - loss: 297.5965 - mae: 13.3249 - mse: 297.5965 - val_loss: 270.9489 - val_mae: 12.8282 - val_mse: 270.9489\n",
            "Epoch 11/50\n",
            "94/94 [==============================] - 2s 22ms/step - loss: 290.9091 - mae: 13.1571 - mse: 290.9091 - val_loss: 279.8439 - val_mae: 12.8711 - val_mse: 279.8439\n",
            "Epoch 12/50\n",
            "94/94 [==============================] - 2s 24ms/step - loss: 292.2421 - mae: 13.2118 - mse: 292.2421 - val_loss: 271.3638 - val_mae: 12.6484 - val_mse: 271.3638\n",
            "Epoch 13/50\n",
            "94/94 [==============================] - 1s 14ms/step - loss: 289.0078 - mae: 13.1400 - mse: 289.0078 - val_loss: 280.7966 - val_mae: 13.1731 - val_mse: 280.7966\n",
            "Epoch 14/50\n",
            "94/94 [==============================] - 1s 14ms/step - loss: 299.9768 - mae: 13.3395 - mse: 299.9768 - val_loss: 273.8752 - val_mae: 12.7069 - val_mse: 273.8752\n",
            "Epoch 15/50\n",
            "94/94 [==============================] - 1s 15ms/step - loss: 291.7317 - mae: 13.2089 - mse: 291.7317 - val_loss: 272.5736 - val_mae: 12.6864 - val_mse: 272.5736\n",
            "Epoch 16/50\n",
            "94/94 [==============================] - 1s 14ms/step - loss: 287.4454 - mae: 13.0799 - mse: 287.4454 - val_loss: 274.1011 - val_mae: 12.8454 - val_mse: 274.1011\n",
            "Epoch 17/50\n",
            "94/94 [==============================] - 1s 15ms/step - loss: 289.7696 - mae: 13.1478 - mse: 289.7696 - val_loss: 274.6952 - val_mae: 12.7116 - val_mse: 274.6952\n",
            "Epoch 18/50\n",
            "94/94 [==============================] - 1s 14ms/step - loss: 292.3014 - mae: 13.2129 - mse: 292.3014 - val_loss: 279.2849 - val_mae: 12.7281 - val_mse: 279.2849\n",
            "Epoch 19/50\n",
            "94/94 [==============================] - 1s 14ms/step - loss: 288.7791 - mae: 13.1360 - mse: 288.7791 - val_loss: 293.7571 - val_mae: 12.7654 - val_mse: 293.7571\n",
            "Epoch 20/50\n",
            "94/94 [==============================] - 3s 27ms/step - loss: 290.9015 - mae: 13.1628 - mse: 290.9015 - val_loss: 282.6503 - val_mae: 12.6575 - val_mse: 282.6503\n",
            "Epoch 21/50\n",
            "94/94 [==============================] - 2s 17ms/step - loss: 288.9050 - mae: 13.0075 - mse: 288.9050 - val_loss: 283.0727 - val_mae: 12.8825 - val_mse: 283.0727\n",
            "Epoch 22/50\n",
            "94/94 [==============================] - 1s 14ms/step - loss: 288.7309 - mae: 13.0830 - mse: 288.7309 - val_loss: 276.5099 - val_mae: 12.9127 - val_mse: 276.5099\n",
            "Epoch 23/50\n",
            "94/94 [==============================] - 1s 14ms/step - loss: 287.7519 - mae: 13.1369 - mse: 287.7519 - val_loss: 274.4572 - val_mae: 12.6767 - val_mse: 274.4572\n",
            "Epoch 24/50\n",
            "94/94 [==============================] - 1s 15ms/step - loss: 286.8469 - mae: 13.0116 - mse: 286.8469 - val_loss: 276.5703 - val_mae: 12.8896 - val_mse: 276.5703\n",
            "Epoch 25/50\n",
            "94/94 [==============================] - 1s 14ms/step - loss: 287.1071 - mae: 13.0419 - mse: 287.1071 - val_loss: 278.7986 - val_mae: 12.9550 - val_mse: 278.7986\n",
            "Epoch 26/50\n",
            "94/94 [==============================] - 1s 15ms/step - loss: 287.9127 - mae: 13.0188 - mse: 287.9127 - val_loss: 281.9366 - val_mae: 13.1244 - val_mse: 281.9366\n",
            "Epoch 27/50\n",
            "94/94 [==============================] - 1s 15ms/step - loss: 286.5450 - mae: 13.1267 - mse: 286.5450 - val_loss: 276.5078 - val_mae: 12.5295 - val_mse: 276.5078\n",
            "Epoch 28/50\n",
            "94/94 [==============================] - 2s 23ms/step - loss: 287.4010 - mae: 13.0027 - mse: 287.4010 - val_loss: 280.6835 - val_mae: 12.7867 - val_mse: 280.6835\n",
            "Epoch 29/50\n",
            "94/94 [==============================] - 2s 22ms/step - loss: 287.8048 - mae: 13.0602 - mse: 287.8048 - val_loss: 276.1407 - val_mae: 12.7726 - val_mse: 276.1407\n",
            "Epoch 30/50\n",
            "94/94 [==============================] - 1s 14ms/step - loss: 287.4511 - mae: 13.1333 - mse: 287.4511 - val_loss: 275.7907 - val_mae: 12.6427 - val_mse: 275.7907\n",
            "Epoch 31/50\n",
            "94/94 [==============================] - 1s 15ms/step - loss: 286.9695 - mae: 13.0427 - mse: 286.9695 - val_loss: 277.6732 - val_mae: 12.8026 - val_mse: 277.6732\n",
            "Epoch 32/50\n",
            "94/94 [==============================] - 1s 14ms/step - loss: 287.5612 - mae: 13.0596 - mse: 287.5612 - val_loss: 275.1521 - val_mae: 12.6178 - val_mse: 275.1521\n",
            "Epoch 33/50\n",
            "94/94 [==============================] - 1s 15ms/step - loss: 288.2641 - mae: 13.0711 - mse: 288.2641 - val_loss: 284.5829 - val_mae: 12.9935 - val_mse: 284.5829\n",
            "Epoch 34/50\n",
            "94/94 [==============================] - 1s 14ms/step - loss: 293.5057 - mae: 13.2232 - mse: 293.5057 - val_loss: 275.0451 - val_mae: 12.7290 - val_mse: 275.0451\n",
            "Epoch 35/50\n",
            "94/94 [==============================] - 1s 14ms/step - loss: 291.8543 - mae: 13.1719 - mse: 291.8543 - val_loss: 278.3376 - val_mae: 12.9080 - val_mse: 278.3376\n",
            "Epoch 36/50\n",
            "94/94 [==============================] - 1s 15ms/step - loss: 287.7804 - mae: 13.0590 - mse: 287.7804 - val_loss: 281.3663 - val_mae: 12.6028 - val_mse: 281.3663\n",
            "Epoch 37/50\n",
            "94/94 [==============================] - 3s 27ms/step - loss: 287.9884 - mae: 13.0767 - mse: 287.9884 - val_loss: 276.3835 - val_mae: 12.7356 - val_mse: 276.3835\n",
            "Epoch 38/50\n",
            "94/94 [==============================] - 2s 17ms/step - loss: 287.3556 - mae: 13.0215 - mse: 287.3556 - val_loss: 287.8439 - val_mae: 13.2396 - val_mse: 287.8439\n",
            "Epoch 39/50\n",
            "94/94 [==============================] - 1s 14ms/step - loss: 288.9450 - mae: 13.0739 - mse: 288.9450 - val_loss: 284.2692 - val_mae: 13.0804 - val_mse: 284.2692\n",
            "Epoch 40/50\n",
            "94/94 [==============================] - 1s 14ms/step - loss: 288.5500 - mae: 13.1351 - mse: 288.5500 - val_loss: 277.9228 - val_mae: 12.7152 - val_mse: 277.9228\n",
            "Epoch 41/50\n",
            "94/94 [==============================] - 1s 14ms/step - loss: 286.9530 - mae: 12.9864 - mse: 286.9530 - val_loss: 273.6116 - val_mae: 12.6907 - val_mse: 273.6116\n",
            "Epoch 42/50\n",
            "94/94 [==============================] - 1s 14ms/step - loss: 286.4630 - mae: 13.0298 - mse: 286.4630 - val_loss: 280.9033 - val_mae: 12.6532 - val_mse: 280.9033\n",
            "Epoch 43/50\n",
            "94/94 [==============================] - 1s 15ms/step - loss: 289.0830 - mae: 13.0219 - mse: 289.0830 - val_loss: 281.1666 - val_mae: 12.7052 - val_mse: 281.1666\n",
            "Epoch 44/50\n",
            "94/94 [==============================] - 1s 14ms/step - loss: 285.1175 - mae: 12.9889 - mse: 285.1175 - val_loss: 274.2467 - val_mae: 12.6586 - val_mse: 274.2467\n",
            "Epoch 45/50\n",
            "94/94 [==============================] - 2s 19ms/step - loss: 286.7527 - mae: 13.0565 - mse: 286.7527 - val_loss: 276.7604 - val_mae: 12.6370 - val_mse: 276.7604\n",
            "Epoch 46/50\n",
            "94/94 [==============================] - 2s 26ms/step - loss: 286.3175 - mae: 12.9859 - mse: 286.3175 - val_loss: 282.3878 - val_mae: 12.8243 - val_mse: 282.3878\n",
            "Epoch 47/50\n",
            "94/94 [==============================] - 1s 13ms/step - loss: 286.5039 - mae: 13.0108 - mse: 286.5039 - val_loss: 302.2158 - val_mae: 13.6209 - val_mse: 302.2158\n",
            "Epoch 48/50\n",
            "94/94 [==============================] - 1s 14ms/step - loss: 290.9275 - mae: 13.1218 - mse: 290.9275 - val_loss: 279.7191 - val_mae: 12.6080 - val_mse: 279.7191\n",
            "Epoch 49/50\n",
            "94/94 [==============================] - 1s 14ms/step - loss: 287.0972 - mae: 12.9958 - mse: 287.0972 - val_loss: 277.7802 - val_mae: 12.9066 - val_mse: 277.7802\n",
            "Epoch 50/50\n",
            "94/94 [==============================] - 1s 14ms/step - loss: 290.7442 - mae: 13.1345 - mse: 290.7442 - val_loss: 275.0743 - val_mae: 12.6443 - val_mse: 275.0743\n"
          ]
        }
      ],
      "source": [
        "# Train the model\n",
        "history = model.fit(X_train, y_train, epochs=50, batch_size=32, validation_split=0.2, verbose=1)\n"
      ]
    },
    {
      "cell_type": "code",
      "execution_count": 17,
      "metadata": {
        "colab": {
          "base_uri": "https://localhost:8080/"
        },
        "id": "Y7W2zxyTbYDh",
        "outputId": "e1921270-638d-41b9-d8fe-81f8a5d7ce4d"
      },
      "outputs": [
        {
          "output_type": "stream",
          "name": "stdout",
          "text": [
            "30/30 [==============================] - 1s 3ms/step - loss: 299.9563 - mae: 13.3817\n",
            "Test MAE: 13.381660461425781\n"
          ]
        }
      ],
      "source": [
        "# When compiling the model\n",
        "model.compile(optimizer='adam', loss='mse', metrics=['mae'])\n",
        "\n",
        "# Then evaluate\n",
        "loss, mae = model.evaluate(X_test, y_test, verbose=1)\n",
        "print(f'Test MAE: {mae}')"
      ]
    },
    {
      "cell_type": "code",
      "execution_count": 20,
      "metadata": {
        "id": "eW09DyFScTuY",
        "colab": {
          "base_uri": "https://localhost:8080/"
        },
        "outputId": "f05a358b-aa7b-42a5-eea8-16c76de5b3ea"
      },
      "outputs": [
        {
          "output_type": "stream",
          "name": "stdout",
          "text": [
            "30/30 [==============================] - 0s 3ms/step\n",
            "Sample 1:\n",
            "Predicted value: 25.05259132385254\n",
            "Actual value: 15\n",
            "\n",
            "Sample 2:\n",
            "Predicted value: 29.277006149291992\n",
            "Actual value: 40\n",
            "\n",
            "Sample 3:\n",
            "Predicted value: 25.820913314819336\n",
            "Actual value: 60\n",
            "\n",
            "Sample 4:\n",
            "Predicted value: 34.32492446899414\n",
            "Actual value: 45\n",
            "\n",
            "Sample 5:\n",
            "Predicted value: 25.05259132385254\n",
            "Actual value: 10\n",
            "\n"
          ]
        }
      ],
      "source": [
        "# sample prediction hv to use modal.predict\n",
        "\n",
        "# Make predictions on the test data\n",
        "predictions = model.predict(X_test)\n",
        "\n",
        "# Display the predictions for the first 5 samples\n",
        "for i in range(5):\n",
        "    print(f\"Sample {i+1}:\")\n",
        "    print(f\"Predicted value: {predictions[i][0]}\")\n",
        "    print(f\"Actual value: {y_test[i]}\")\n",
        "    print()\n"
      ]
    },
    {
      "cell_type": "code",
      "source": [],
      "metadata": {
        "id": "8HefSbq3wfYU"
      },
      "execution_count": null,
      "outputs": []
    }
  ],
  "metadata": {
    "accelerator": "GPU",
    "colab": {
      "gpuType": "T4",
      "provenance": []
    },
    "kernelspec": {
      "display_name": "Python 3",
      "name": "python3"
    },
    "language_info": {
      "name": "python"
    }
  },
  "nbformat": 4,
  "nbformat_minor": 0
}